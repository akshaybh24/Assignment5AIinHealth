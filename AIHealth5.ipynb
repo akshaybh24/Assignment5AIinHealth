{
 "cells": [
  {
   "cell_type": "code",
   "execution_count": 9,
   "id": "e118506b-5095-46d6-839a-48b968b0eb03",
   "metadata": {},
   "outputs": [],
   "source": [
    "import pandas as pd\n",
    "from sklearn.model_selection import train_test_split\n",
    "from sklearn.tree import DecisionTreeClassifier\n",
    "from sklearn.metrics import accuracy_score\n",
    "from sklearn import tree\n",
    "import matplotlib.pyplot as plt\n",
    "import numpy as np\n",
    "import graphviz\n"
   ]
  },
  {
   "cell_type": "code",
   "execution_count": 10,
   "id": "c73eed9c-f1e5-4521-916e-d518015e806e",
   "metadata": {},
   "outputs": [
    {
     "name": "stdout",
     "output_type": "stream",
     "text": [
      "   RestingBP  Cholesterol  MaxHR  HeartDisease\n",
      "0        140          289    172         False\n",
      "1        160          180    156          True\n",
      "2        130          283     98         False\n",
      "3        138          214    108          True\n",
      "4        150          195    122         False\n"
     ]
    },
    {
     "name": "stderr",
     "output_type": "stream",
     "text": [
      "<ipython-input-10-bae074eb759a>:12: RuntimeWarning: divide by zero encountered in log2\n",
      "  total_class_entr = - (total_class_count/total_row)*np.log2(total_class_count/total_row) #entropy of the class\n",
      "<ipython-input-10-bae074eb759a>:12: RuntimeWarning: invalid value encountered in scalar multiply\n",
      "  total_class_entr = - (total_class_count/total_row)*np.log2(total_class_count/total_row) #entropy of the class\n"
     ]
    },
    {
     "data": {
      "text/plain": [
       "nan"
      ]
     },
     "execution_count": 10,
     "metadata": {},
     "output_type": "execute_result"
    }
   ],
   "source": [
    "\n",
    "df = pd.read_csv(\"heart.csv\")\n",
    "filtered_df = df[['RestingBP', 'Cholesterol', 'MaxHR', 'HeartDisease']]\n",
    "\n",
    "print(filtered_df.head())\n",
    "\n",
    "def calc_total_entropy(train_data, label, class_list):\n",
    "    total_row = train_data.shape[0] #the total size of the dataset\n",
    "    total_entr = 0\n",
    "    \n",
    "    for c in class_list: #for each class in the label\n",
    "        total_class_count = train_data[train_data[label] == c].shape[0] #number of the class\n",
    "        total_class_entr = - (total_class_count/total_row)*np.log2(total_class_count/total_row) #entropy of the class\n",
    "        total_entr += total_class_entr #adding the class entropy to the total entropy of the dataset\n",
    "    \n",
    "    return total_entr\n",
    "\n",
    "calc_total_entropy(filtered_df, 'HeartDisease', ['TRUE', 'FALSE'])"
   ]
  },
  {
   "cell_type": "code",
   "execution_count": 11,
   "id": "08bb343b-390a-47f9-8417-8230dca79078",
   "metadata": {},
   "outputs": [
    {
     "name": "stdout",
     "output_type": "stream",
     "text": [
      "     Age Sex ChestPainType  RestingBP  Cholesterol  FastingBS RestingECG  \\\n",
      "0     40   M           ATA        140          289          0     Normal   \n",
      "1     49   F           NAP        160          180          0     Normal   \n",
      "2     37   M           ATA        130          283          0         ST   \n",
      "3     48   F           ASY        138          214          0     Normal   \n",
      "4     54   M           NAP        150          195          0     Normal   \n",
      "..   ...  ..           ...        ...          ...        ...        ...   \n",
      "913   45   M            TA        110          264          0     Normal   \n",
      "914   68   M           ASY        144          193          1     Normal   \n",
      "915   57   M           ASY        130          131          0     Normal   \n",
      "916   57   F           ATA        130          236          0        LVH   \n",
      "917   38   M           NAP        138          175          0     Normal   \n",
      "\n",
      "     MaxHR ExerciseAngina  Oldpeak ST_Slope  HeartDisease  \n",
      "0      172              N      0.0       Up         False  \n",
      "1      156              N      1.0     Flat          True  \n",
      "2       98              N      0.0       Up         False  \n",
      "3      108              Y      1.5     Flat          True  \n",
      "4      122              N      0.0       Up         False  \n",
      "..     ...            ...      ...      ...           ...  \n",
      "913    132              N      1.2     Flat          True  \n",
      "914    141              N      3.4     Flat          True  \n",
      "915    115              Y      1.2     Flat          True  \n",
      "916    174              N      0.0     Flat          True  \n",
      "917    173              N      0.0       Up         False  \n",
      "\n",
      "[918 rows x 12 columns]\n"
     ]
    }
   ],
   "source": [
    "print(df)"
   ]
  },
  {
   "cell_type": "code",
   "execution_count": 12,
   "id": "4f3c67ad-b259-436d-b031-5913e81c5a68",
   "metadata": {},
   "outputs": [
    {
     "name": "stdout",
     "output_type": "stream",
     "text": [
      "     Age Sex ChestPainType  RestingBP  Cholesterol  FastingBS RestingECG  \\\n",
      "0     40   M           ATA        140          289          0     Normal   \n",
      "1     49   F           NAP        160          180          0     Normal   \n",
      "2     37   M           ATA        130          283          0         ST   \n",
      "3     48   F           ASY        138          214          0     Normal   \n",
      "4     54   M           NAP        150          195          0     Normal   \n",
      "..   ...  ..           ...        ...          ...        ...        ...   \n",
      "913   45   M            TA        110          264          0     Normal   \n",
      "914   68   M           ASY        144          193          1     Normal   \n",
      "915   57   M           ASY        130          131          0     Normal   \n",
      "916   57   F           ATA        130          236          0        LVH   \n",
      "917   38   M           NAP        138          175          0     Normal   \n",
      "\n",
      "     MaxHR ExerciseAngina  Oldpeak ST_Slope  HeartDisease  \n",
      "0      172              N      0.0       Up         False  \n",
      "1      156              N      1.0     Flat          True  \n",
      "2       98              N      0.0       Up         False  \n",
      "3      108              Y      1.5     Flat          True  \n",
      "4      122              N      0.0       Up         False  \n",
      "..     ...            ...      ...      ...           ...  \n",
      "913    132              N      1.2     Flat          True  \n",
      "914    141              N      3.4     Flat          True  \n",
      "915    115              Y      1.2     Flat          True  \n",
      "916    174              N      0.0     Flat          True  \n",
      "917    173              N      0.0       Up         False  \n",
      "\n",
      "[918 rows x 12 columns]\n"
     ]
    }
   ],
   "source": [
    "df2 = pd.DataFrame(df)\n",
    "\n",
    "print(df2)"
   ]
  },
  {
   "cell_type": "code",
   "execution_count": 13,
   "id": "a8d8a2d7-2261-475e-b260-b0ff30fd868f",
   "metadata": {},
   "outputs": [
    {
     "ename": "NameError",
     "evalue": "name 'load_iris' is not defined",
     "output_type": "error",
     "traceback": [
      "\u001b[0;31m---------------------------------------------------------------------------\u001b[0m",
      "\u001b[0;31mNameError\u001b[0m                                 Traceback (most recent call last)",
      "Cell \u001b[0;32mIn[13], line 1\u001b[0m\n\u001b[0;32m----> 1\u001b[0m iris \u001b[38;5;241m=\u001b[39m \u001b[43mload_iris\u001b[49m()\n\u001b[1;32m      2\u001b[0m X, y \u001b[38;5;241m=\u001b[39m iris\u001b[38;5;241m.\u001b[39mdata, iris\u001b[38;5;241m.\u001b[39mtarget\n\u001b[1;32m      3\u001b[0m clf \u001b[38;5;241m=\u001b[39m tree\u001b[38;5;241m.\u001b[39mDecisionTreeClassifier()\n",
      "\u001b[0;31mNameError\u001b[0m: name 'load_iris' is not defined"
     ]
    }
   ],
   "source": [
    "iris = load_iris()\n",
    ">>> X, y = iris.data, iris.target\n",
    ">>> clf = tree.DecisionTreeClassifier()\n",
    ">>> clf = clf.fit(X, y)"
   ]
  },
  {
   "cell_type": "code",
   "execution_count": null,
   "id": "4d667906-b297-4b29-a402-24e2834404c8",
   "metadata": {},
   "outputs": [],
   "source": []
  }
 ],
 "metadata": {
  "kernelspec": {
   "display_name": "Python 3",
   "language": "python",
   "name": "python3"
  },
  "language_info": {
   "codemirror_mode": {
    "name": "ipython",
    "version": 3
   },
   "file_extension": ".py",
   "mimetype": "text/x-python",
   "name": "python",
   "nbconvert_exporter": "python",
   "pygments_lexer": "ipython3",
   "version": "3.8.18"
  }
 },
 "nbformat": 4,
 "nbformat_minor": 5
}
